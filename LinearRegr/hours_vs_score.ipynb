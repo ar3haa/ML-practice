{
 "cells": [
  {
   "cell_type": "markdown",
   "id": "d74fda4a",
   "metadata": {},
   "source": [
    "importing needed packages!"
   ]
  },
  {
   "cell_type": "code",
   "execution_count": null,
   "id": "d9ed97a3",
   "metadata": {},
   "outputs": [],
   "source": [
    "import matplotlib.pyplot as plt\n",
    "import pandas as pd\n",
    "import numpy as np"
   ]
  },
  {
   "cell_type": "markdown",
   "id": "06d55bf8",
   "metadata": {},
   "source": [
    "Reading the data in"
   ]
  },
  {
   "cell_type": "code",
   "execution_count": null,
   "id": "df48de2a",
   "metadata": {},
   "outputs": [],
   "source": [
    "df = pd.read_csv(\"very_large_hours_vs_score.csv\")\n",
    "\n",
    "df.head"
   ]
  },
  {
   "cell_type": "code",
   "execution_count": null,
   "id": "f2d887c5",
   "metadata": {},
   "outputs": [],
   "source": [
    "plt.scatter(df.Hours_Studied , df.Exam_Score , color='yellow')\n",
    "plt.xlabel(\"Hours_Studied\")\n",
    "plt.ylabel(\"Exam_Score\")\n",
    "plt.show()"
   ]
  },
  {
   "cell_type": "markdown",
   "id": "8930766c",
   "metadata": {},
   "source": [
    "80% & 20%  split dataset to (train/test)"
   ]
  },
  {
   "cell_type": "code",
   "execution_count": null,
   "id": "d66f3757",
   "metadata": {},
   "outputs": [],
   "source": [
    "msk = np.random.rand(len(df)) <0.8\n",
    "\n",
    "train = df[msk]\n",
    "test = df[~msk]"
   ]
  },
  {
   "cell_type": "code",
   "execution_count": null,
   "id": "85ae7fc8",
   "metadata": {},
   "outputs": [],
   "source": [
    "fig = plt.figure()\n",
    "w_fig = fig.add_subplot(111)\n",
    "w_fig.scatter(train.Hours_Studied , train.Exam_Score , color='yellow')\n",
    "w_fig.scatter(test.Hours_Studied , test.Exam_Score , color='black')\n",
    "\n",
    "plt.xlabel(\"Hours_Studied\")\n",
    "plt.ylabel(\"Exam_Score\")\n",
    "\n",
    "plt.show()"
   ]
  },
  {
   "cell_type": "code",
   "execution_count": null,
   "id": "25b89dda",
   "metadata": {},
   "outputs": [],
   "source": [
    "from sklearn import linear_model \n",
    "regr = linear_model.LinearRegression()\n",
    "\n",
    "train_x = np.asanyarray(train[['Hours_Studied']])\n",
    "train_y = np.asanyarray(train[[\"Exam_Score\"]])\n",
    "\n",
    "regr.fit(train_x,train_y)\n",
    "\n",
    "print('coefficient:',regr.coef_)\n",
    "print(\"intercept:\",regr.intercept_)"
   ]
  },
  {
   "cell_type": "code",
   "execution_count": null,
   "id": "724f9184",
   "metadata": {},
   "outputs": [],
   "source": [
    "plt.scatter(train.Hours_Studied ,train.Exam_Score , color ='yellow')\n",
    "plt.plot(train_x , regr.coef_[0][0]*train_x + regr.intercept_[0] , '-r')\n",
    "plt.xlabel(\"Hours_Studied\")\n",
    "plt.ylabel(\"Exam_score\")\n",
    "\n",
    "plt.show()"
   ]
  },
  {
   "cell_type": "code",
   "execution_count": 62,
   "id": "8f86b62b",
   "metadata": {},
   "outputs": [
    {
     "name": "stdout",
     "output_type": "stream",
     "text": [
      "MAE :  4.129418215009552\n",
      "MSE :  26.686589284336808\n",
      "R2-score: 0.86\n"
     ]
    }
   ],
   "source": [
    "from sklearn.metrics import r2_score\n",
    "\n",
    "test_x = np.asanyarray(test[[\"Hours_Studied\"]])\n",
    "test_y = np.asanyarray(test[[\"Exam_Score\"]])\n",
    "test_y_ = regr.predict(test_x)\n",
    "\n",
    "print(\"MAE : \", np.mean(np.absolute(test_y_ - test_y)))\n",
    "print(\"MSE : \", np.mean((test_y_ - test_y)**2))\n",
    "print(\"R2-score: %.2f\" % r2_score(test_y , test_y_) )"
   ]
  }
 ],
 "metadata": {
  "kernelspec": {
   "display_name": "Python 3",
   "language": "python",
   "name": "python3"
  },
  "language_info": {
   "codemirror_mode": {
    "name": "ipython",
    "version": 3
   },
   "file_extension": ".py",
   "mimetype": "text/x-python",
   "name": "python",
   "nbconvert_exporter": "python",
   "pygments_lexer": "ipython3",
   "version": "3.13.3"
  }
 },
 "nbformat": 4,
 "nbformat_minor": 5
}
