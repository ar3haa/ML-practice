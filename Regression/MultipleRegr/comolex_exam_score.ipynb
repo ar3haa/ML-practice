{
 "cells": [
  {
   "cell_type": "code",
   "execution_count": 5,
   "id": "4d2df372",
   "metadata": {},
   "outputs": [],
   "source": [
    "import matplotlib.pyplot as plt\n",
    "import numpy as np \n",
    "import pandas as pd\n"
   ]
  },
  {
   "cell_type": "code",
   "execution_count": 6,
   "id": "df0de4c1",
   "metadata": {},
   "outputs": [
    {
     "data": {
      "text/html": [
       "<div>\n",
       "<style scoped>\n",
       "    .dataframe tbody tr th:only-of-type {\n",
       "        vertical-align: middle;\n",
       "    }\n",
       "\n",
       "    .dataframe tbody tr th {\n",
       "        vertical-align: top;\n",
       "    }\n",
       "\n",
       "    .dataframe thead th {\n",
       "        text-align: right;\n",
       "    }\n",
       "</style>\n",
       "<table border=\"1\" class=\"dataframe\">\n",
       "  <thead>\n",
       "    <tr style=\"text-align: right;\">\n",
       "      <th></th>\n",
       "      <th>Hours_Studied</th>\n",
       "      <th>Sleep_Hours</th>\n",
       "      <th>Attendance_Rate</th>\n",
       "      <th>Exam_Score</th>\n",
       "    </tr>\n",
       "  </thead>\n",
       "  <tbody>\n",
       "    <tr>\n",
       "      <th>0</th>\n",
       "      <td>7.490802</td>\n",
       "      <td>5.110798</td>\n",
       "      <td>0.630853</td>\n",
       "      <td>71.043162</td>\n",
       "    </tr>\n",
       "    <tr>\n",
       "      <th>1</th>\n",
       "      <td>19.014286</td>\n",
       "      <td>7.251406</td>\n",
       "      <td>0.623489</td>\n",
       "      <td>93.079523</td>\n",
       "    </tr>\n",
       "    <tr>\n",
       "      <th>2</th>\n",
       "      <td>14.639879</td>\n",
       "      <td>9.237675</td>\n",
       "      <td>0.953127</td>\n",
       "      <td>90.900184</td>\n",
       "    </tr>\n",
       "    <tr>\n",
       "      <th>3</th>\n",
       "      <td>11.973170</td>\n",
       "      <td>8.393349</td>\n",
       "      <td>0.624773</td>\n",
       "      <td>69.711358</td>\n",
       "    </tr>\n",
       "    <tr>\n",
       "      <th>4</th>\n",
       "      <td>3.120373</td>\n",
       "      <td>8.839367</td>\n",
       "      <td>0.635975</td>\n",
       "      <td>65.264428</td>\n",
       "    </tr>\n",
       "  </tbody>\n",
       "</table>\n",
       "</div>"
      ],
      "text/plain": [
       "   Hours_Studied  Sleep_Hours  Attendance_Rate  Exam_Score\n",
       "0       7.490802     5.110798         0.630853   71.043162\n",
       "1      19.014286     7.251406         0.623489   93.079523\n",
       "2      14.639879     9.237675         0.953127   90.900184\n",
       "3      11.973170     8.393349         0.624773   69.711358\n",
       "4       3.120373     8.839367         0.635975   65.264428"
      ]
     },
     "execution_count": 6,
     "metadata": {},
     "output_type": "execute_result"
    }
   ],
   "source": [
    "df = pd.read_csv(\"complex_exam_score_dataset.csv\")\n",
    "df.head()"
   ]
  },
  {
   "cell_type": "code",
   "execution_count": 7,
   "id": "842de880",
   "metadata": {},
   "outputs": [],
   "source": [
    "msk = np.random.rand(len(df))>0.8\n",
    "\n",
    "\n",
    "train = df[msk]\n",
    "test = df[~msk]"
   ]
  },
  {
   "cell_type": "markdown",
   "id": "e750c997",
   "metadata": {},
   "source": [
    "Multiple Regression Model"
   ]
  },
  {
   "cell_type": "code",
   "execution_count": 9,
   "id": "a8826888",
   "metadata": {},
   "outputs": [
    {
     "name": "stdout",
     "output_type": "stream",
     "text": [
      "Coeffitions :  [[ 1.89388932  0.56449949 16.09502878]]\n",
      "Intercept :  [38.87179428]\n"
     ]
    }
   ],
   "source": [
    "from sklearn import linear_model\n",
    "\n",
    "regr = linear_model.LinearRegression()\n",
    "\n",
    "\n",
    "x = np.asanyarray(train[[\"Hours_Studied\",\"Sleep_Hours\",\"Attendance_Rate\"]])\n",
    "y = np.asanyarray(train[[\"Exam_Score\"]])\n",
    "\n",
    "regr.fit(x,y)\n",
    "\n",
    "print(\"Coeffitions : \", regr.coef_)\n",
    "print(\"Intercept : \", regr.intercept_)"
   ]
  },
  {
   "cell_type": "markdown",
   "id": "70872a31",
   "metadata": {},
   "source": [
    "Prediction"
   ]
  },
  {
   "cell_type": "code",
   "execution_count": 10,
   "id": "fd41297b",
   "metadata": {},
   "outputs": [
    {
     "name": "stdout",
     "output_type": "stream",
     "text": [
      "Residual sm of squares : 25.12\n",
      "Variance Score : 0.849\n"
     ]
    },
    {
     "name": "stderr",
     "output_type": "stream",
     "text": [
      "c:\\Users\\Topsystem\\AppData\\Local\\Programs\\Python\\Python313\\Lib\\site-packages\\sklearn\\utils\\validation.py:2732: UserWarning: X has feature names, but LinearRegression was fitted without feature names\n",
      "  warnings.warn(\n"
     ]
    }
   ],
   "source": [
    "y_hat = regr.predict(test[[\"Hours_Studied\",\"Sleep_Hours\",\"Attendance_Rate\"]])\n",
    "x = np.asanyarray(test[[\"Hours_Studied\",\"Sleep_Hours\",\"Attendance_Rate\"]])\n",
    "y = np.asanyarray(test[[\"Exam_Score\"]])\n",
    "\n",
    "print(\"Residual sm of squares : %.2f\" %np.mean((y_hat - y)**2))\n",
    "print(\"Variance Score : %.3f\" %regr.score(x,y))"
   ]
  }
 ],
 "metadata": {
  "kernelspec": {
   "display_name": "Python 3",
   "language": "python",
   "name": "python3"
  },
  "language_info": {
   "codemirror_mode": {
    "name": "ipython",
    "version": 3
   },
   "file_extension": ".py",
   "mimetype": "text/x-python",
   "name": "python",
   "nbconvert_exporter": "python",
   "pygments_lexer": "ipython3",
   "version": "3.13.3"
  }
 },
 "nbformat": 4,
 "nbformat_minor": 5
}
