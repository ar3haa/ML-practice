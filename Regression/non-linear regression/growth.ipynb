{
 "cells": [
  {
   "cell_type": "code",
   "execution_count": 2,
   "id": "e5790f3d",
   "metadata": {},
   "outputs": [],
   "source": [
    "import matplotlib.pyplot as plt\n",
    "import numpy as np\n",
    "import pandas as pd\n",
    "from scipy.optimize import curve_fit\n",
    "from sklearn.metrics import r2_score\n"
   ]
  },
  {
   "cell_type": "code",
   "execution_count": 3,
   "id": "634c52cd",
   "metadata": {},
   "outputs": [
    {
     "data": {
      "text/html": [
       "<div>\n",
       "<style scoped>\n",
       "    .dataframe tbody tr th:only-of-type {\n",
       "        vertical-align: middle;\n",
       "    }\n",
       "\n",
       "    .dataframe tbody tr th {\n",
       "        vertical-align: top;\n",
       "    }\n",
       "\n",
       "    .dataframe thead th {\n",
       "        text-align: right;\n",
       "    }\n",
       "</style>\n",
       "<table border=\"1\" class=\"dataframe\">\n",
       "  <thead>\n",
       "    <tr style=\"text-align: right;\">\n",
       "      <th></th>\n",
       "      <th>نور (lux)</th>\n",
       "      <th>دما (°C)</th>\n",
       "      <th>میزان آب (liters)</th>\n",
       "      <th>قد گیاه (cm)</th>\n",
       "    </tr>\n",
       "  </thead>\n",
       "  <tbody>\n",
       "    <tr>\n",
       "      <th>0</th>\n",
       "      <td>4370.861070</td>\n",
       "      <td>27.840633</td>\n",
       "      <td>0.757810</td>\n",
       "      <td>87.466078</td>\n",
       "    </tr>\n",
       "    <tr>\n",
       "      <th>1</th>\n",
       "      <td>9556.428758</td>\n",
       "      <td>16.682799</td>\n",
       "      <td>2.756382</td>\n",
       "      <td>43.010216</td>\n",
       "    </tr>\n",
       "    <tr>\n",
       "      <th>2</th>\n",
       "      <td>7587.945476</td>\n",
       "      <td>18.232574</td>\n",
       "      <td>1.763131</td>\n",
       "      <td>47.763902</td>\n",
       "    </tr>\n",
       "    <tr>\n",
       "      <th>3</th>\n",
       "      <td>6387.926358</td>\n",
       "      <td>32.971084</td>\n",
       "      <td>2.566144</td>\n",
       "      <td>121.443744</td>\n",
       "    </tr>\n",
       "    <tr>\n",
       "      <th>4</th>\n",
       "      <td>2404.167764</td>\n",
       "      <td>27.128581</td>\n",
       "      <td>1.300124</td>\n",
       "      <td>82.034385</td>\n",
       "    </tr>\n",
       "    <tr>\n",
       "      <th>5</th>\n",
       "      <td>2403.950683</td>\n",
       "      <td>15.183941</td>\n",
       "      <td>2.738808</td>\n",
       "      <td>31.748938</td>\n",
       "    </tr>\n",
       "    <tr>\n",
       "      <th>6</th>\n",
       "      <td>1522.752510</td>\n",
       "      <td>17.029431</td>\n",
       "      <td>1.473004</td>\n",
       "      <td>41.197376</td>\n",
       "    </tr>\n",
       "    <tr>\n",
       "      <th>7</th>\n",
       "      <td>8795.585312</td>\n",
       "      <td>28.270035</td>\n",
       "      <td>0.527094</td>\n",
       "      <td>93.577714</td>\n",
       "    </tr>\n",
       "    <tr>\n",
       "      <th>8</th>\n",
       "      <td>6410.035106</td>\n",
       "      <td>15.101232</td>\n",
       "      <td>2.763455</td>\n",
       "      <td>36.406537</td>\n",
       "    </tr>\n",
       "    <tr>\n",
       "      <th>9</th>\n",
       "      <td>7372.653200</td>\n",
       "      <td>18.216161</td>\n",
       "      <td>0.728217</td>\n",
       "      <td>46.795735</td>\n",
       "    </tr>\n",
       "  </tbody>\n",
       "</table>\n",
       "</div>"
      ],
      "text/plain": [
       "     نور (lux)   دما (°C)  میزان آب (liters)  قد گیاه (cm)\n",
       "0  4370.861070  27.840633           0.757810     87.466078\n",
       "1  9556.428758  16.682799           2.756382     43.010216\n",
       "2  7587.945476  18.232574           1.763131     47.763902\n",
       "3  6387.926358  32.971084           2.566144    121.443744\n",
       "4  2404.167764  27.128581           1.300124     82.034385\n",
       "5  2403.950683  15.183941           2.738808     31.748938\n",
       "6  1522.752510  17.029431           1.473004     41.197376\n",
       "7  8795.585312  28.270035           0.527094     93.577714\n",
       "8  6410.035106  15.101232           2.763455     36.406537\n",
       "9  7372.653200  18.216161           0.728217     46.795735"
      ]
     },
     "execution_count": 3,
     "metadata": {},
     "output_type": "execute_result"
    }
   ],
   "source": [
    "df = pd.read_csv(\"growth_data.csv\")\n",
    "\n",
    "df.head(10)"
   ]
  },
  {
   "cell_type": "code",
   "execution_count": 4,
   "id": "230809ea",
   "metadata": {},
   "outputs": [],
   "source": [
    "x1 = df[\"نور (lux)\"].values\n",
    "x2 = df[\"دما (°C)\"].values\n",
    "x3 = df[\"میزان آب (liters)\"].values\n",
    "y = df[\"قد گیاه (cm)\"].values"
   ]
  },
  {
   "cell_type": "code",
   "execution_count": 5,
   "id": "7105c454",
   "metadata": {},
   "outputs": [],
   "source": [
    "def model_func (X , a , b , c , d):\n",
    "  x1, x2, x3, = X\n",
    "  y_p =  a * np.log(b * x1 +1)+ c * x2**2 + d * np.sqrt(x3)\n",
    "  return y"
   ]
  },
  {
   "cell_type": "code",
   "execution_count": 6,
   "id": "b3634e44",
   "metadata": {},
   "outputs": [
    {
     "name": "stdout",
     "output_type": "stream",
     "text": [
      "[1. 1. 1. 1.]\n"
     ]
    },
    {
     "name": "stderr",
     "output_type": "stream",
     "text": [
      "C:\\Users\\Topsystem\\AppData\\Local\\Temp\\ipykernel_8524\\84466463.py:3: OptimizeWarning: Covariance of the parameters could not be estimated\n",
      "  params , _ = curve_fit(model_func , X_combined , y)\n"
     ]
    }
   ],
   "source": [
    "X_combined = np.vstack((x1,x2,x3))\n",
    "\n",
    "params , _ = curve_fit(model_func , X_combined , y)\n",
    "\n",
    "print(params)"
   ]
  },
  {
   "cell_type": "code",
   "execution_count": 7,
   "id": "b6bff631",
   "metadata": {},
   "outputs": [],
   "source": [
    "y_pred = model_func(X_combined , *params)"
   ]
  },
  {
   "cell_type": "code",
   "execution_count": 8,
   "id": "c4fb325e",
   "metadata": {},
   "outputs": [
    {
     "name": "stdout",
     "output_type": "stream",
     "text": [
      "R²: 1.0\n"
     ]
    }
   ],
   "source": [
    "r2 =r2_score(y , y_pred)\n",
    "print(\"R²:\", r2)"
   ]
  },
  {
   "cell_type": "code",
   "execution_count": 9,
   "id": "872c453c",
   "metadata": {},
   "outputs": [
    {
     "data": {
      "image/png": "[encoded data removed]",
      "text/plain": [
       "<Figure size 1000x600 with 1 Axes>"
      ]
     },
     "metadata": {},
     "output_type": "display_data"
    }
   ],
   "source": [
    "plt.figure(figsize=(10, 6))\n",
    "plt.scatter(y, y_pred, alpha=0.7)\n",
    "plt.xlabel(\"قد واقعی گیاه (cm)\")\n",
    "plt.ylabel(\"قد پیش‌بینی‌شده (cm)\")\n",
    "plt.title(\"مقایسه قد واقعی و پیش‌بینی‌شده\")\n",
    "plt.plot([min(y), max(y)], [min(y), max(y)], 'r--')  # خط y=x\n",
    "plt.grid(True)\n",
    "plt.show()\n"
   ]
  },
  {
   "cell_type": "code",
   "execution_count": 10,
   "id": "7f9bab7d",
   "metadata": {},
   "outputs": [
    {
     "ename": "SyntaxError",
     "evalue": "invalid character '🔧' (U+1F527) (2105100242.py, line 1)",
     "output_type": "error",
     "traceback": [
      "  \u001b[36mCell\u001b[39m\u001b[36m \u001b[39m\u001b[32mIn[10]\u001b[39m\u001b[32m, line 1\u001b[39m\n\u001b[31m    \u001b[39m\u001b[31m🔧 تابع پیشنهادی برای مدل اول:\u001b[39m\n    ^\n\u001b[31mSyntaxError\u001b[39m\u001b[31m:\u001b[39m invalid character '🔧' (U+1F527)\n"
     ]
    }
   ],
   "source": [
    "🔧 تابع پیشنهادی برای مدل اول:\n",
    "𝑦\n",
    "=\n",
    "𝑎\n",
    "⋅\n",
    "log\n",
    "⁡\n",
    "(\n",
    "𝑏\n",
    "⋅\n",
    "مساحت\n",
    "+\n",
    "1\n",
    ")\n",
    "+\n",
    "𝑐\n",
    "⋅\n",
    "دم\n",
    "ا\n",
    "2\n",
    "+\n",
    "𝑑\n",
    "⋅\n",
    "رطوبت\n",
    "y=a⋅log(b⋅مساحت+1)+c⋅دما \n",
    "2\n",
    " +d⋅ \n",
    "رطوبت\n",
    "​\n",
    " \n",
    "🧠 مدل دوم می‌تونه این باشه:\n",
    "𝑦\n",
    "=\n",
    "𝑎\n",
    "⋅\n",
    "مساحت\n",
    "0.8\n",
    "+\n",
    "𝑏\n",
    "⋅\n",
    "طبقات\n",
    "+\n",
    "𝑐\n",
    "⋅\n",
    "𝑒\n",
    "−\n",
    "دما\n",
    "/\n",
    "20\n",
    "+\n",
    "𝑑\n",
    "⋅\n",
    "log\n",
    "⁡\n",
    "(\n",
    "رطوبت\n",
    "+\n",
    "1\n",
    ")\n",
    "+\n",
    "𝑒\n",
    "⋅\n",
    "عایق‌بندی\n",
    "y=a⋅مساحت \n",
    "0.8\n",
    " +b⋅طبقات+c⋅e \n",
    "−دما/20\n",
    " +d⋅log(رطوبت+1)+e⋅عایق‌بندی"
   ]
  },
  {
   "cell_type": "markdown",
   "id": "1485ea1b",
   "metadata": {},
   "source": [
    "🔧 تابع پیشنهادی برای مدل اول:\n",
    "𝑦\n",
    "=\n",
    "𝑎\n",
    "⋅\n",
    "log\n",
    "⁡\n",
    "(\n",
    "𝑏\n",
    "⋅\n",
    "مساحت\n",
    "+\n",
    "1\n",
    ")\n",
    "+\n",
    "𝑐\n",
    "⋅\n",
    "دم\n",
    "ا\n",
    "2\n",
    "+\n",
    "𝑑\n",
    "⋅\n",
    "رطوبت\n",
    "y=a⋅log(b⋅مساحت+1)+c⋅دما \n",
    "2\n",
    " +d⋅ \n",
    "رطوبت\n",
    "​\n",
    " \n",
    "🧠 مدل دوم می‌تونه این باشه:\n",
    "𝑦\n",
    "=\n",
    "𝑎\n",
    "⋅\n",
    "مساحت\n",
    "0.8\n",
    "+\n",
    "𝑏\n",
    "⋅\n",
    "طبقات\n",
    "+\n",
    "𝑐\n",
    "⋅\n",
    "𝑒\n",
    "−\n",
    "دما\n",
    "/\n",
    "20\n",
    "+\n",
    "𝑑\n",
    "⋅\n",
    "log\n",
    "⁡\n",
    "(\n",
    "رطوبت\n",
    "+\n",
    "1\n",
    ")\n",
    "+\n",
    "𝑒\n",
    "⋅\n",
    "عایق‌بندی\n",
    "y=a⋅مساحت \n",
    "0.8\n",
    " +b⋅طبقات+c⋅e \n",
    "−دما/20\n",
    " +d⋅log(رطوبت+1)+e⋅عایق‌بندی"
   ]
  }
 ],
 "metadata": {
  "kernelspec": {
   "display_name": "Python 3",
   "language": "python",
   "name": "python3"
  },
  "language_info": {
   "codemirror_mode": {
    "name": "ipython",
    "version": 3
   },
   "file_extension": ".py",
   "mimetype": "text/x-python",
   "name": "python",
   "nbconvert_exporter": "python",
   "pygments_lexer": "ipython3",
   "version": "3.13.3"
  }
 },
 "nbformat": 4,
 "nbformat_minor": 5
}
