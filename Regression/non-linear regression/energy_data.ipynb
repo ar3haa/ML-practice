{
 "cells": [
  {
   "cell_type": "markdown",
   "id": "d2a702e3",
   "metadata": {},
   "source": []
  },
  {
   "cell_type": "code",
   "execution_count": null,
   "id": "5eca9f26",
   "metadata": {},
   "outputs": [],
   "source": [
    "\n"
   ]
  },
  {
   "cell_type": "code",
   "execution_count": null,
   "id": "3d0895bd",
   "metadata": {},
   "outputs": [],
   "source": []
  },
  {
   "cell_type": "markdown",
   "id": "09cb53c1",
   "metadata": {},
   "source": [
    "lets gooooooo"
   ]
  },
  {
   "cell_type": "code",
   "execution_count": 8,
   "id": "81da097d",
   "metadata": {},
   "outputs": [],
   "source": [
    "import numpy as np\n",
    "import pandas as pd\n",
    "import matplotlib.pyplot as plt \n",
    "from sklearn.metrics import r2_score\n",
    "from scipy.optimize import curve_fit"
   ]
  },
  {
   "cell_type": "code",
   "execution_count": 9,
   "id": "a263a58d",
   "metadata": {},
   "outputs": [
    {
     "data": {
      "text/html": [
       "<div>\n",
       "<style scoped>\n",
       "    .dataframe tbody tr th:only-of-type {\n",
       "        vertical-align: middle;\n",
       "    }\n",
       "\n",
       "    .dataframe tbody tr th {\n",
       "        vertical-align: top;\n",
       "    }\n",
       "\n",
       "    .dataframe thead th {\n",
       "        text-align: right;\n",
       "    }\n",
       "</style>\n",
       "<table border=\"1\" class=\"dataframe\">\n",
       "  <thead>\n",
       "    <tr style=\"text-align: right;\">\n",
       "      <th></th>\n",
       "      <th>مساحت (m²)</th>\n",
       "      <th>تعداد طبقات</th>\n",
       "      <th>عایق‌بندی</th>\n",
       "      <th>دمای محیط (°C)</th>\n",
       "      <th>رطوبت محیط (%)</th>\n",
       "      <th>مصرف انرژی سالانه (kWh)</th>\n",
       "    </tr>\n",
       "  </thead>\n",
       "  <tbody>\n",
       "    <tr>\n",
       "      <th>0</th>\n",
       "      <td>224.117296</td>\n",
       "      <td>1</td>\n",
       "      <td>0.284074</td>\n",
       "      <td>16.478864</td>\n",
       "      <td>77.260250</td>\n",
       "      <td>3062.513876</td>\n",
       "    </tr>\n",
       "    <tr>\n",
       "      <th>1</th>\n",
       "      <td>121.534834</td>\n",
       "      <td>3</td>\n",
       "      <td>0.793572</td>\n",
       "      <td>17.547015</td>\n",
       "      <td>64.911569</td>\n",
       "      <td>3589.034801</td>\n",
       "    </tr>\n",
       "    <tr>\n",
       "      <th>2</th>\n",
       "      <td>106.712863</td>\n",
       "      <td>2</td>\n",
       "      <td>0.207059</td>\n",
       "      <td>4.423617</td>\n",
       "      <td>54.369303</td>\n",
       "      <td>3334.800860</td>\n",
       "    </tr>\n",
       "    <tr>\n",
       "      <th>3</th>\n",
       "      <td>187.828692</td>\n",
       "      <td>1</td>\n",
       "      <td>0.986028</td>\n",
       "      <td>17.017681</td>\n",
       "      <td>83.508509</td>\n",
       "      <td>2824.544118</td>\n",
       "    </tr>\n",
       "    <tr>\n",
       "      <th>4</th>\n",
       "      <td>229.867242</td>\n",
       "      <td>4</td>\n",
       "      <td>0.330909</td>\n",
       "      <td>28.438649</td>\n",
       "      <td>31.159979</td>\n",
       "      <td>4233.701893</td>\n",
       "    </tr>\n",
       "    <tr>\n",
       "      <th>5</th>\n",
       "      <td>155.776615</td>\n",
       "      <td>2</td>\n",
       "      <td>0.456439</td>\n",
       "      <td>23.870180</td>\n",
       "      <td>55.142007</td>\n",
       "      <td>2852.913326</td>\n",
       "    </tr>\n",
       "    <tr>\n",
       "      <th>6</th>\n",
       "      <td>295.191050</td>\n",
       "      <td>4</td>\n",
       "      <td>0.676409</td>\n",
       "      <td>0.448319</td>\n",
       "      <td>65.953362</td>\n",
       "      <td>5846.525527</td>\n",
       "    </tr>\n",
       "    <tr>\n",
       "      <th>7</th>\n",
       "      <td>221.207435</td>\n",
       "      <td>1</td>\n",
       "      <td>0.644459</td>\n",
       "      <td>9.959121</td>\n",
       "      <td>86.067894</td>\n",
       "      <td>3343.734926</td>\n",
       "    </tr>\n",
       "    <tr>\n",
       "      <th>8</th>\n",
       "      <td>170.232975</td>\n",
       "      <td>3</td>\n",
       "      <td>0.916345</td>\n",
       "      <td>5.449085</td>\n",
       "      <td>21.084096</td>\n",
       "      <td>4348.532255</td>\n",
       "    </tr>\n",
       "    <tr>\n",
       "      <th>9</th>\n",
       "      <td>148.029380</td>\n",
       "      <td>4</td>\n",
       "      <td>0.962561</td>\n",
       "      <td>8.433551</td>\n",
       "      <td>39.439924</td>\n",
       "      <td>4660.807052</td>\n",
       "    </tr>\n",
       "  </tbody>\n",
       "</table>\n",
       "</div>"
      ],
      "text/plain": [
       "   مساحت (m²)  تعداد طبقات  عایق‌بندی  دمای محیط (°C)  رطوبت محیط (%)  \\\n",
       "0  224.117296            1   0.284074       16.478864       77.260250   \n",
       "1  121.534834            3   0.793572       17.547015       64.911569   \n",
       "2  106.712863            2   0.207059        4.423617       54.369303   \n",
       "3  187.828692            1   0.986028       17.017681       83.508509   \n",
       "4  229.867242            4   0.330909       28.438649       31.159979   \n",
       "5  155.776615            2   0.456439       23.870180       55.142007   \n",
       "6  295.191050            4   0.676409        0.448319       65.953362   \n",
       "7  221.207435            1   0.644459        9.959121       86.067894   \n",
       "8  170.232975            3   0.916345        5.449085       21.084096   \n",
       "9  148.029380            4   0.962561        8.433551       39.439924   \n",
       "\n",
       "   مصرف انرژی سالانه (kWh)  \n",
       "0              3062.513876  \n",
       "1              3589.034801  \n",
       "2              3334.800860  \n",
       "3              2824.544118  \n",
       "4              4233.701893  \n",
       "5              2852.913326  \n",
       "6              5846.525527  \n",
       "7              3343.734926  \n",
       "8              4348.532255  \n",
       "9              4660.807052  "
      ]
     },
     "execution_count": 9,
     "metadata": {},
     "output_type": "execute_result"
    }
   ],
   "source": [
    "df = pd.read_csv(\"energy_data.csv\")\n",
    "df.head(10)"
   ]
  },
  {
   "cell_type": "code",
   "execution_count": 18,
   "id": "34dced7f",
   "metadata": {},
   "outputs": [],
   "source": [
    "y = df[\"مصرف انرژی سالانه (kWh)\"]\n",
    "area = df[\"مساحت (m²)\"]\n",
    "floors = df[\"تعداد طبقات\"]\n",
    "temp = df['دمای محیط (°C)']\n",
    "insulation = df[\"عایق\\u200cبندی\"]\n",
    "humidity = df[\"رطوبت محیط (%)\"]\n",
    "\n",
    "\n",
    "XK = np.vstack ((area , floors , temp , insulation , humidity))\n"
   ]
  },
  {
   "cell_type": "code",
   "execution_count": 25,
   "id": "bf208864",
   "metadata": {},
   "outputs": [],
   "source": [
    "def model1(X, a, b, c, d):\n",
    "    area, floors, insulation, temp, humidity = X\n",
    "    return a * np.log(b * area + 1) + c * temp**2 + d * np.sqrt(humidity)"
   ]
  },
  {
   "cell_type": "code",
   "execution_count": 12,
   "id": "08b49613",
   "metadata": {},
   "outputs": [],
   "source": [
    "def model2(X, a, b, c, d, e):\n",
    "    area, floors, insulation, temp, humidity = X\n",
    "    return (\n",
    "        a * area**0.8 +\n",
    "        b * floors +\n",
    "        c * np.exp(-temp / 20) +\n",
    "        d * np.log(humidity + 1) +\n",
    "        e * insulation\n",
    "    )\n"
   ]
  },
  {
   "cell_type": "code",
   "execution_count": null,
   "id": "67831c36",
   "metadata": {},
   "outputs": [],
   "source": [
    "params_1 , _ = curve_fit(model1 , XK ,y)\n",
    "print(params_1)"
   ]
  },
  {
   "cell_type": "code",
   "execution_count": 32,
   "id": "136d146a",
   "metadata": {},
   "outputs": [],
   "source": [
    "params_2 , _ = curve_fit(model2, XK ,y)\n"
   ]
  },
  {
   "cell_type": "code",
   "execution_count": 35,
   "id": "ae9eceac",
   "metadata": {},
   "outputs": [],
   "source": [
    "y_m1 = model1(XK , *params_1)\n",
    "y_m2 = model2(XK , *params_2)\n"
   ]
  },
  {
   "cell_type": "code",
   "execution_count": 36,
   "id": "50a58d72",
   "metadata": {},
   "outputs": [
    {
     "name": "stdout",
     "output_type": "stream",
     "text": [
      "0.19111639128657532\n",
      "0.9699401605430635\n"
     ]
    }
   ],
   "source": [
    "r2_1 = r2_score(y , y_m1)\n",
    "print(r2_1)\n",
    "r2_2 = r2_score(y , y_m2)\n",
    "print(r2_2)"
   ]
  }
 ],
 "metadata": {
  "kernelspec": {
   "display_name": "Python 3",
   "language": "python",
   "name": "python3"
  },
  "language_info": {
   "codemirror_mode": {
    "name": "ipython",
    "version": 3
   },
   "file_extension": ".py",
   "mimetype": "text/x-python",
   "name": "python",
   "nbconvert_exporter": "python",
   "pygments_lexer": "ipython3",
   "version": "3.13.3"
  }
 },
 "nbformat": 4,
 "nbformat_minor": 5
}
